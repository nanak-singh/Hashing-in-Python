{
 "cells": [
  {
   "cell_type": "code",
   "execution_count": 30,
   "metadata": {},
   "outputs": [],
   "source": [
    "#text hashing algorithms\n",
    "import hashlib"
   ]
  },
  {
   "cell_type": "code",
   "execution_count": 32,
   "metadata": {},
   "outputs": [
    {
     "data": {
      "text/plain": [
       "{'blake2b',\n",
       " 'blake2s',\n",
       " 'md4',\n",
       " 'md5',\n",
       " 'md5-sha1',\n",
       " 'mdc2',\n",
       " 'ripemd160',\n",
       " 'sha1',\n",
       " 'sha224',\n",
       " 'sha256',\n",
       " 'sha384',\n",
       " 'sha3_224',\n",
       " 'sha3_256',\n",
       " 'sha3_384',\n",
       " 'sha3_512',\n",
       " 'sha512',\n",
       " 'sha512_224',\n",
       " 'sha512_256',\n",
       " 'shake_128',\n",
       " 'shake_256',\n",
       " 'sm3',\n",
       " 'whirlpool'}"
      ]
     },
     "execution_count": 32,
     "metadata": {},
     "output_type": "execute_result"
    }
   ],
   "source": [
    "hashlib.algorithms_available"
   ]
  },
  {
   "cell_type": "code",
   "execution_count": 33,
   "metadata": {},
   "outputs": [
    {
     "data": {
      "text/plain": [
       "{'blake2b',\n",
       " 'blake2s',\n",
       " 'md5',\n",
       " 'sha1',\n",
       " 'sha224',\n",
       " 'sha256',\n",
       " 'sha384',\n",
       " 'sha3_224',\n",
       " 'sha3_256',\n",
       " 'sha3_384',\n",
       " 'sha3_512',\n",
       " 'sha512',\n",
       " 'shake_128',\n",
       " 'shake_256'}"
      ]
     },
     "execution_count": 33,
     "metadata": {},
     "output_type": "execute_result"
    }
   ],
   "source": [
    "hashlib.algorithms_guaranteed"
   ]
  },
  {
   "cell_type": "code",
   "execution_count": 34,
   "metadata": {},
   "outputs": [
    {
     "name": "stdout",
     "output_type": "stream",
     "text": [
      "Enter text to hash : hello\n",
      "5d41402abc4b2a76b9719d911017c592\n"
     ]
    }
   ],
   "source": [
    "mystring = input(\"Enter text to hash : \")\n",
    "hash_obj = hashlib.md5(mystring.encode())\n",
    "a = hash_obj.hexdigest()\n",
    "print(a)"
   ]
  },
  {
   "cell_type": "code",
   "execution_count": 38,
   "metadata": {},
   "outputs": [
    {
     "name": "stdout",
     "output_type": "stream",
     "text": [
      "Enter text to hash : 5d41402abc4b2a76b9719d911017c592\n",
      "a316e9c4c457435b0d448df69951648a1c807672f7015167ede0a97a5e91b852edee2bf861a2552a2491cdf2aa0d0cc9fcae270f80c7537f73620b3f033bc56f\n"
     ]
    }
   ],
   "source": [
    "mystring1 = input(\"Enter text to hash : \")\n",
    "hash_obj = hashlib.blake2b(mystring1.encode())\n",
    "b = hash_obj.hexdigest()\n",
    "print(b)"
   ]
  },
  {
   "cell_type": "code",
   "execution_count": 39,
   "metadata": {},
   "outputs": [
    {
     "name": "stdout",
     "output_type": "stream",
     "text": [
      "Enter text to hash : hello\n",
      "5d41402abc4b2a76b9719d911017c592\n",
      "295c710119d9179b67a2b4cba20414d5\n",
      "5aabbba503dc3dcf0d0908362c65ba2e38672eacf17111ad06d84a8bd9881c00bbc4189cd5cd220629b9d6fb218a94996141158a67cf453474a8a686c0d045be\n"
     ]
    }
   ],
   "source": [
    "mystring = input(\"Enter text to hash : \")\n",
    "hash_obj = hashlib.md5(mystring.encode())\n",
    "a = hash_obj.hexdigest()\n",
    "print(a)\n",
    "a = a[::-1]\n",
    "print(a)\n",
    "hash_obj1 = hashlib.blake2b(a.encode())\n",
    "b = hash_obj1.hexdigest()\n",
    "print(b)"
   ]
  },
  {
   "cell_type": "code",
   "execution_count": 51,
   "metadata": {},
   "outputs": [],
   "source": [
    "def encrypt(a):\n",
    "    result = \"\"\n",
    "    s = 4\n",
    "    for i in range(len(a)):\n",
    "        char = a[i]\n",
    "        #uppercase , lowercase , digits\n",
    "        #uppercase \n",
    "        # A -> 65 -> 69 -> E\n",
    "        if char.isupper():\n",
    "            result += chr((ord(char)+ s -65) %26 +65)\n",
    "        #lowercase\n",
    "        elif char.islower():\n",
    "            result += chr((ord(char)+ s -97) %26 +97)\n",
    "        elif char.isdigit():\n",
    "            x = int(char)\n",
    "            y = x + 4\n",
    "            result += str(y)\n",
    "        else:\n",
    "            result += char\n",
    "    return result"
   ]
  },
  {
   "cell_type": "code",
   "execution_count": 52,
   "metadata": {},
   "outputs": [
    {
     "name": "stdout",
     "output_type": "stream",
     "text": [
      "5Efg6@\n"
     ]
    }
   ],
   "source": [
    "print(encrypt(\"1Abc2@\"))"
   ]
  },
  {
   "cell_type": "code",
   "execution_count": 54,
   "metadata": {},
   "outputs": [
    {
     "name": "stdout",
     "output_type": "stream",
     "text": [
      "Enter text to hash : hello\n",
      "5d41402abc4b2a76b9719d911017c592\n",
      "295c710119d9179b67a2b4cba20414d5\n",
      "6139g11545513h1351113f1011e6f8gfe64858h9\n",
      "0f65c3d2600fbb44e170eb9bcd3bcd17c304bcc79993d7fc60685ba8f20e753d9b31c01845f936b926ee6133ec9ce0daf75bf0acc5d519dbc03af0442b4b817d\n",
      "55abecec25a33054e86c15de4397870d\n"
     ]
    }
   ],
   "source": [
    "mystring = input(\"Enter text to hash : \")\n",
    "hash_obj = hashlib.md5(mystring.encode())\n",
    "a = hash_obj.hexdigest()\n",
    "print(a)\n",
    "a = a[::-1]\n",
    "print(a)\n",
    "a = encrypt(a)\n",
    "print(a)\n",
    "hash_obj1 = hashlib.blake2b(a.encode())\n",
    "b = hash_obj1.hexdigest()\n",
    "print(b)\n",
    "hash_obj2 = hashlib.md5(b.encode())\n",
    "b = hash_obj2.hexdigest()\n",
    "print(b)"
   ]
  },
  {
   "cell_type": "code",
   "execution_count": 56,
   "metadata": {},
   "outputs": [
    {
     "name": "stdout",
     "output_type": "stream",
     "text": [
      "Enter text to hash : password\n",
      "8e2509f9d73e932f76ce7e71f0144104\n"
     ]
    }
   ],
   "source": [
    "def encrypt(a):\n",
    "    result = \"\"\n",
    "    s = 4\n",
    "    for i in range(len(a)):\n",
    "        char = a[i]\n",
    "        #uppercase , lowercase , digits\n",
    "        #uppercase \n",
    "        # A -> 65 -> 69 -> E\n",
    "        if char.isupper():\n",
    "            result += chr((ord(char)+ s -65) %26 +65)\n",
    "        #lowercase\n",
    "        elif char.islower():\n",
    "            result += chr((ord(char)+ s -97) %26 +97)\n",
    "        elif char.isdigit():\n",
    "            x = int(char)\n",
    "            y = x + 4\n",
    "            result += str(y)\n",
    "        else:\n",
    "            result += char\n",
    "    return result\n",
    "mystring = input(\"Enter text to hash : \")\n",
    "hash_obj = hashlib.md5(mystring.encode())\n",
    "a = hash_obj.hexdigest()\n",
    "#print(a)\n",
    "a = a[::-1]\n",
    "#print(a)\n",
    "a = encrypt(a)\n",
    "#print(a)\n",
    "hash_obj1 = hashlib.blake2b(a.encode())\n",
    "b = hash_obj1.hexdigest()\n",
    "#print(b)\n",
    "hash_obj2 = hashlib.md5(b.encode())\n",
    "b = hash_obj2.hexdigest()\n",
    "print(b)"
   ]
  },
  {
   "cell_type": "code",
   "execution_count": null,
   "metadata": {},
   "outputs": [],
   "source": []
  }
 ],
 "metadata": {
  "kernelspec": {
   "display_name": "Python 3",
   "language": "python",
   "name": "python3"
  },
  "language_info": {
   "codemirror_mode": {
    "name": "ipython",
    "version": 3
   },
   "file_extension": ".py",
   "mimetype": "text/x-python",
   "name": "python",
   "nbconvert_exporter": "python",
   "pygments_lexer": "ipython3",
   "version": "3.8.3"
  }
 },
 "nbformat": 4,
 "nbformat_minor": 4
}
